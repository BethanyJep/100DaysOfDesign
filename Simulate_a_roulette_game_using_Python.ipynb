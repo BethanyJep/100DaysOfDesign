{
  "nbformat": 4,
  "nbformat_minor": 0,
  "metadata": {
    "colab": {
      "name": "Simulate a roulette game using Python.ipynb",
      "provenance": [],
      "authorship_tag": "ABX9TyOmi/GLRF77FWylkMDqf2m/",
      "include_colab_link": true
    },
    "kernelspec": {
      "name": "python3",
      "display_name": "Python 3"
    }
  },
  "cells": [
    {
      "cell_type": "markdown",
      "metadata": {
        "id": "view-in-github",
        "colab_type": "text"
      },
      "source": [
        "<a href=\"https://colab.research.google.com/github/InnCreator/100DaysOfDesign/blob/master/Simulate_a_roulette_game_using_Python.ipynb\" target=\"_parent\"><img src=\"https://colab.research.google.com/assets/colab-badge.svg\" alt=\"Open In Colab\"/></a>"
      ]
    },
    {
      "cell_type": "code",
      "metadata": {
        "id": "-MMmO2zxqil8",
        "colab_type": "code",
        "colab": {}
      },
      "source": [
        "from random import randint\n",
        "\n",
        "moneyBet = 100\n",
        "playerBet => moneyBet\n",
        "\n",
        "numberBet = int(input())\n",
        "NumberBet = range(1,49)\n",
        "randomNumber = randint(0, 49)\n",
        "\n",
        "\n",
        "if a == b:\n",
        "  print('Congrats')\n",
        "\n",
        "\n",
        "\n",
        "\n"
      ],
      "execution_count": 0,
      "outputs": []
    },
    {
      "cell_type": "code",
      "metadata": {
        "id": "EhgmeEPixY2A",
        "colab_type": "code",
        "colab": {}
      },
      "source": [
        "\n",
        "\n"
      ],
      "execution_count": 0,
      "outputs": []
    }
  ]
}