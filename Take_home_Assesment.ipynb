{
  "nbformat": 4,
  "nbformat_minor": 0,
  "metadata": {
    "kernelspec": {
      "display_name": "Python 3",
      "language": "python",
      "name": "python3"
    },
    "language_info": {
      "codemirror_mode": {
        "name": "ipython",
        "version": 3
      },
      "file_extension": ".py",
      "mimetype": "text/x-python",
      "name": "python",
      "nbconvert_exporter": "python",
      "pygments_lexer": "ipython3",
      "version": "3.7.3"
    },
    "colab": {
      "name": "Take home Assesment.ipynb",
      "provenance": [],
      "collapsed_sections": [],
      "include_colab_link": true
    }
  },
  "cells": [
    {
      "cell_type": "markdown",
      "metadata": {
        "id": "view-in-github",
        "colab_type": "text"
      },
      "source": [
        "<a href=\"https://colab.research.google.com/github/InnCreator/100DaysOfDesign/blob/master/Take_home_Assesment.ipynb\" target=\"_parent\"><img src=\"https://colab.research.google.com/assets/colab-badge.svg\" alt=\"Open In Colab\"/></a>"
      ]
    },
    {
      "cell_type": "markdown",
      "metadata": {
        "id": "rsAj6gsnGjVm",
        "colab_type": "text"
      },
      "source": [
        "# Question 1\n",
        "Create a program that asks the user to enter their name and age. The program should then print\n",
        "out the name, year and age from the current year, in multiples of 7 until they reach 100 years.\n",
        "e.g. Using 2023 as the current year and my age being 77, the program should print as follows:\n",
        "\n",
        "Peter, in 2023 your age is 77 years\n",
        "\n",
        "Peter, in 2030 your age is 84 years\n",
        "\n",
        "Peter, in 2037 your age is 91 years\n",
        "\n",
        "Peter, in 2044 your age is 98 years\n",
        "p@ssw0rd\n",
        "Peter, in 2046 your age is 100 years\n"
      ]
    },
    {
      "cell_type": "markdown",
      "metadata": {
        "id": "zIyoUaw-7fUn",
        "colab_type": "text"
      },
      "source": [
        "##Solution\n",
        "I create a loop that is able to add 7 to both the age and year provided the age is less than 100.\n",
        "\n",
        "I also nest another loop that prints the age and year of  the individual at 100 years of age\n",
        "\n",
        "Lastly, print the results.\n"
      ]
    },
    {
      "cell_type": "code",
      "metadata": {
        "id": "H-WHMlDBGjV1",
        "colab_type": "code",
        "outputId": "8487c39c-62aa-4265-eef0-1434f4f4966a",
        "colab": {
          "base_uri": "https://localhost:8080/",
          "height": 146
        }
      },
      "source": [
        "#a function I will use to create my loop\n",
        "def nameAge(age, year):\n",
        "\n",
        "  #first while loop if age is less than 100\n",
        "  while age <= 100:\n",
        "    print('Peter, in ' + str(year) + ' your age is ' + str(age) + ' years')\n",
        "    age += 7\n",
        "    year += 7\n",
        "    #second while loop to print when age is 100\n",
        "    while  100 < age < 107:\n",
        "      newAge = age - 100\n",
        "      age -= newAge\n",
        "      year -= newAge\n",
        "\n",
        "#print the results\n",
        "nameAge(int(input(\"Peter's age: \")), int(input(\"Current year: \")))"
      ],
      "execution_count": 0,
      "outputs": [
        {
          "output_type": "stream",
          "text": [
            "Peter's age: 77\n",
            "Current year: 2023\n",
            "Peter, in 2023 your age is 77 years\n",
            "Peter, in 2030 your age is 84 years\n",
            "Peter, in 2037 your age is 91 years\n",
            "Peter, in 2044 your age is 98 years\n",
            "Peter, in 2046 your age is 100 years\n"
          ],
          "name": "stdout"
        }
      ]
    },
    {
      "cell_type": "markdown",
      "metadata": {
        "id": "Z-YRzi7JGjWF",
        "colab_type": "text"
      },
      "source": [
        "# Question 2\n",
        "Write a program that takes a string and checks whether it is a valid IPv4 address. The program\n",
        "should return a boolean. Do not use regular expressions."
      ]
    },
    {
      "cell_type": "markdown",
      "metadata": {
        "colab_type": "text",
        "id": "3kTXSqan9PoC"
      },
      "source": [
        "##Solution\n",
        "In this case I will use if, else statements to eliminate all the unwanted values\n",
        "\n",
        "I will start by splitting the user's input where there are decimal places.\n",
        "\n",
        "IPv4 addresses are divided into four parts by decimals, hence the input should be didvided into an array of four\n",
        "\n",
        "From there I can be able to select each part of the array and work with them separately.\n",
        "\n",
        "Each part should be greater than zero and less than 255\n",
        "\n",
        "Each condition should return a true or false Boolean.\n"
      ]
    },
    {
      "cell_type": "code",
      "metadata": {
        "id": "2ByjRe7qGjWH",
        "colab_type": "code",
        "outputId": "0a5e5e9b-f783-490c-b82b-a78856cfb00d",
        "colab": {
          "base_uri": "https://localhost:8080/",
          "height": 54
        }
      },
      "source": [
        "#Function to check validity of the IPv4 address\n",
        "def ipChecker(address):\n",
        "  #Divide the string input where there are decimal places\n",
        "  decimalPlaces = address.split(\".\")\n",
        "\n",
        "  #IPv4 addresses should be divisible into for parts hence first condition is to disqualify all inputs that do not meet the set criteria\n",
        "  if len(decimalPlaces) != 4:\n",
        "    return False\n",
        "\n",
        "  else: \n",
        "    #Dividing the array into four parts\n",
        "    while len(decimalPlaces) == 4:\n",
        "      partA = int(decimalPlaces[0])\n",
        "      partB = int(decimalPlaces[1])\n",
        "      partC = int(decimalPlaces[2])\n",
        "      partD = int(decimalPlaces[3])\n",
        "      #Each part should be greater than 0 and less than 255\n",
        "      if partD < 0 or partC < 0 or partC < 0 or partA < 0  :\n",
        "        return False\n",
        "      elif partA > 255 or partB > 255 or partD > 255 or partC > 255:\n",
        "        return False \n",
        "      else:\n",
        "        return True\n",
        "\n",
        "address = input(\"Enter IPv4 Address: \")\n",
        "ipChecker(address)"
      ],
      "execution_count": 0,
      "outputs": [
        {
          "output_type": "stream",
          "text": [
            "Enter IPv4 Address: 232.22333.3.3\n"
          ],
          "name": "stdout"
        },
        {
          "output_type": "execute_result",
          "data": {
            "text/plain": [
              "False"
            ]
          },
          "metadata": {
            "tags": []
          },
          "execution_count": 7
        }
      ]
    },
    {
      "cell_type": "markdown",
      "metadata": {
        "id": "xyP7t4tTGjWN",
        "colab_type": "text"
      },
      "source": [
        "# Question 3\n",
        "A cylinder has the following properties:\n",
        "\n",
        "● Radius\n",
        "\n",
        "● Height\n",
        "\n",
        "● Open or Closed\n",
        "\n",
        "Model a class with methods that can calculate the following accurately:\n",
        "\n",
        "● Surface area of a cylinder\n",
        "\n",
        "● Volume of a cylinder"
      ]
    },
    {
      "cell_type": "markdown",
      "metadata": {
        "colab_type": "text",
        "id": "xp4WaLvA9RSF"
      },
      "source": [
        "##Solution\n",
        "Surface Area =   2πrh + 2πr**2 \n",
        "\n",
        "Volume = πhr**2\n",
        "\n",
        "First, import library math, for pi\n",
        "\n",
        "Then,  create the class cylinder and initialize it with parameter Radius and Height\n",
        "\n",
        "Lastly, create two methods that return the Surface Area and Volume of the Cylinder\n"
      ]
    },
    {
      "cell_type": "code",
      "metadata": {
        "id": "3WyHlYpKGjWP",
        "colab_type": "code",
        "outputId": "11689af8-64df-4da0-ad07-5429ec742752",
        "colab": {
          "base_uri": "https://localhost:8080/",
          "height": 72
        }
      },
      "source": [
        "#Import needed libraries to perform the math\n",
        "import math\n",
        "\n",
        "#Create the class cylinder\n",
        "class cylinder():\n",
        "\n",
        "  #initialize with self\n",
        "  def __init__(self, radius, height):\n",
        "    self.radius = radius\n",
        "    self.height = height\n",
        "\n",
        "  #create a method to calculate Surface Area\n",
        "  def surfaceArea(self):\n",
        "    return (math.pi * 2 * (self.radius**2)) + (2 * math.pi * self.radius * self.height)\n",
        "\n",
        "  #Create a method to calculate Volume\n",
        "  def volume(self):\n",
        "    return math.pi * (self.radius**2) * self.height\n",
        "\n",
        "r = int(input(\"Cylinder's radius: \"))\n",
        "h = int(input(\"Cylinder's height: \"))\n",
        "\n",
        "obj = cylinder(r, h)\n",
        "\n",
        "print(\"Surface Area of cylinder: \", obj.surfaceArea(), \"Volume of cylinder: \", obj.volume())"
      ],
      "execution_count": 0,
      "outputs": [
        {
          "output_type": "stream",
          "text": [
            "Cylinder's radius: 21\n",
            "Cylinder's height: 78\n",
            "Surface Area of cylinder:  13062.74225362636 Volume of cylinder:  108064.5040981817\n"
          ],
          "name": "stdout"
        }
      ]
    }
  ]
}